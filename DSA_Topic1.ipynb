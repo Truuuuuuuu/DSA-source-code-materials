{
 "cells": [
  {
   "cell_type": "markdown",
   "metadata": {},
   "source": [
    "\n",
    "&nbsp;&nbsp;&nbsp;&nbsp;&nbsp;&nbsp;&nbsp;&nbsp;&nbsp;&nbsp;&nbsp;&nbsp;&nbsp;&nbsp;&nbsp;&nbsp;&nbsp;&nbsp;&nbsp;\n",
    "# **DATA STRUCTURE AND ALGORITHMS TOPIC 01**"
   ]
  },
  {
   "cell_type": "markdown",
   "metadata": {},
   "source": [
    "**#01: ACCESS LIST ITEMS**"
   ]
  },
  {
   "cell_type": "code",
   "execution_count": 1,
   "metadata": {},
   "outputs": [
    {
     "name": "stdout",
     "output_type": "stream",
     "text": [
      "Jane\n"
     ]
    }
   ],
   "source": [
    "names = [\"Ben\",\"Jane\",\"Mark\",\"John\",\"Marie\"]\n",
    "print(names[1]) #prints first element"
   ]
  },
  {
   "cell_type": "markdown",
   "metadata": {},
   "source": [
    "**#02: ACCESS LIST ITEMS USING NEGATIVE INDEX**"
   ]
  },
  {
   "cell_type": "code",
   "execution_count": 2,
   "metadata": {},
   "outputs": [
    {
     "name": "stdout",
     "output_type": "stream",
     "text": [
      "Marie\n"
     ]
    }
   ],
   "source": [
    "names = [\"Ben\",\"Jane\",\"Mark\",\"John\",\"Marie\"]\n",
    "print(names[-1]) #print last element (starts counting on -1,-2,-3 from the last element towards the first !!!!! not O,-1,-2)"
   ]
  },
  {
   "cell_type": "markdown",
   "metadata": {},
   "source": [
    "**#03: ACCESS LIST ITEMS - RANGE OF INDEXES**"
   ]
  },
  {
   "cell_type": "code",
   "execution_count": 4,
   "metadata": {},
   "outputs": [
    {
     "name": "stdout",
     "output_type": "stream",
     "text": [
      "['Jane', 'Mark']\n",
      "['Ben', 'Jane', 'Mark', 'John']\n",
      "['John', 'Marie']\n"
     ]
    }
   ],
   "source": [
    "names = [\"Ben\",\"Jane\",\"Mark\",\"John\",\"Marie\"]\n",
    "print(names[1:3]) #second element to third element\n",
    "print(names[:4]) #first element to fourth element (no start value, means it will print from the starting element)\n",
    "print(names[3:]) #third element to last element (no end value, means it prints till the last element)\n",
    "\n",
    "#REMINDER!!!! (:) when no start value or end value, automatically it will print from the start to end of the list items"
   ]
  },
  {
   "cell_type": "markdown",
   "metadata": {},
   "source": [
    "**#04: ACCESS LIST ITEMS - RANGE OF NEGATIVE INDEXES**"
   ]
  },
  {
   "cell_type": "code",
   "execution_count": 9,
   "metadata": {},
   "outputs": [
    {
     "name": "stdout",
     "output_type": "stream",
     "text": [
      "['John', 'Marie']\n",
      "['Ben', 'Jane']\n",
      "['John', 'Marie', 'Jose']\n"
     ]
    }
   ],
   "source": [
    "names = [\"Ben\",\"Jane\",\"Mark\",\"John\",\"Marie\",\"Jose\"]\n",
    "print(names[-3:-1]) # 4th to 5th element\n",
    "print(names[:-4]) # 1st to 2nd element\n",
    "print(names[-3:]) # 4th to last\n"
   ]
  },
  {
   "cell_type": "markdown",
   "metadata": {},
   "source": [
    "**#05: CHECK IF ITEM EXISTS**"
   ]
  },
  {
   "cell_type": "code",
   "execution_count": 11,
   "metadata": {},
   "outputs": [
    {
     "name": "stdout",
     "output_type": "stream",
     "text": [
      "Mark is in the list\n"
     ]
    }
   ],
   "source": [
    "names = [\"Ben\",\"Jane\",\"Mark\",\"John\",\"Marie\",\"Jose\"]\n",
    "if \"Mark\" in names:\n",
    "    print(\"Mark is in the list\")\n"
   ]
  },
  {
   "cell_type": "markdown",
   "metadata": {},
   "source": [
    "**#06: CHANGING ITEM VALUE**"
   ]
  },
  {
   "cell_type": "code",
   "execution_count": 12,
   "metadata": {},
   "outputs": [
    {
     "name": "stdout",
     "output_type": "stream",
     "text": [
      "['Gwen', 'Jane', 'Mark', 'John', 'Marie', 'Jose']\n"
     ]
    }
   ],
   "source": [
    "names = [\"Ben\",\"Jane\",\"Mark\",\"John\",\"Marie\",\"Jose\"]\n",
    "names[0] = \"Gwen\" #names[0] is Ben so he will be replaced by Gwen\n",
    "print(names)\n"
   ]
  },
  {
   "cell_type": "markdown",
   "metadata": {},
   "source": [
    "**#07: CHANGING A RANGE OF ITEM VALUES**"
   ]
  },
  {
   "cell_type": "code",
   "execution_count": 14,
   "metadata": {},
   "outputs": [
    {
     "name": "stdout",
     "output_type": "stream",
     "text": [
      "['Ben', 'James', 'Efren', 'John', 'Marie', 'Jose']\n"
     ]
    }
   ],
   "source": [
    "names = [\"Ben\",\"Jane\",\"Mark\",\"John\",\"Marie\",\"Jose\"]\n",
    "names[1:3] = [\"James\",\"Efren\"]\n",
    "print(names)"
   ]
  },
  {
   "cell_type": "markdown",
   "metadata": {},
   "source": [
    "**#08: INSERT ITEM**"
   ]
  },
  {
   "cell_type": "code",
   "execution_count": 17,
   "metadata": {},
   "outputs": [
    {
     "name": "stdout",
     "output_type": "stream",
     "text": [
      "['Robert', 'Ben', 'Jane', 'Mark', 'John', 'Marie', 'Jose']\n"
     ]
    }
   ],
   "source": [
    "names = [\"Ben\",\"Jane\",\"Mark\",\"John\",\"Marie\",\"Jose\"]\n",
    "names.insert(0,\"Robert\") #Robert will be added at the first element\n",
    "print(names)"
   ]
  },
  {
   "cell_type": "markdown",
   "metadata": {},
   "source": [
    "**#09: APPEND ITEMS**"
   ]
  },
  {
   "cell_type": "code",
   "execution_count": 18,
   "metadata": {},
   "outputs": [
    {
     "name": "stdout",
     "output_type": "stream",
     "text": [
      "['Ben', 'Jane', 'Mark', 'John', 'Marie', 'Jose', 'Brownie']\n"
     ]
    }
   ],
   "source": [
    "names = [\"Ben\",\"Jane\",\"Mark\",\"John\",\"Marie\",\"Jose\"]\n",
    "names.append(\"Brownie\") #will be added to the last \n",
    "print(names)"
   ]
  },
  {
   "cell_type": "markdown",
   "metadata": {},
   "source": [
    "**!!!RECAP: Use insert() to add item on a list in any position you like / Use append() to add an item to the last element**"
   ]
  },
  {
   "cell_type": "markdown",
   "metadata": {},
   "source": [
    "**#10: REMOVE LIST ITEMS - REMOVE SPECIFIED ITEM**"
   ]
  },
  {
   "cell_type": "code",
   "execution_count": 25,
   "metadata": {},
   "outputs": [
    {
     "name": "stdout",
     "output_type": "stream",
     "text": [
      "['Jane', 'Mark', 'John', 'Marie', 'Jose']\n"
     ]
    }
   ],
   "source": [
    "names = [\"Ben\",\"Jane\",\"Mark\",\"John\",\"Marie\",\"Jose\"]\n",
    "names.remove(\"Ben\") # Ben will be removed , uses \"Ben\" an exact value instead of index\n",
    "print(names)"
   ]
  },
  {
   "cell_type": "markdown",
   "metadata": {},
   "source": [
    "**#11.1: REMOVE LIST ITEMS - REMOVE SPECIFIED INDEX USING POP()**"
   ]
  },
  {
   "cell_type": "code",
   "execution_count": 22,
   "metadata": {},
   "outputs": [
    {
     "name": "stdout",
     "output_type": "stream",
     "text": [
      "['Ben', 'Jane', 'John', 'Marie', 'Jose']\n"
     ]
    }
   ],
   "source": [
    "names = [\"Ben\",\"Jane\",\"Mark\",\"John\",\"Marie\",\"Jose\"]\n",
    "names.pop(2) #names[2] is Mark so he will be removed\n",
    "print(names)\n"
   ]
  },
  {
   "cell_type": "markdown",
   "metadata": {},
   "source": [
    "**#11.2 : ACCESS ITEM USING POP()**"
   ]
  },
  {
   "cell_type": "code",
   "execution_count": 23,
   "metadata": {},
   "outputs": [
    {
     "name": "stdout",
     "output_type": "stream",
     "text": [
      "Mark\n"
     ]
    }
   ],
   "source": [
    "names = [\"Ben\",\"Jane\",\"Mark\",\"John\",\"Marie\",\"Jose\"]\n",
    "item = names.pop(2) #names[2] using pop to access \"Mark\"\n",
    "print(item)"
   ]
  },
  {
   "cell_type": "markdown",
   "metadata": {},
   "source": [
    "**#12: REMOVE LIST ITEMS - REMOVE SPECIFIED INDEX USING DEL**"
   ]
  },
  {
   "cell_type": "code",
   "execution_count": 24,
   "metadata": {},
   "outputs": [
    {
     "name": "stdout",
     "output_type": "stream",
     "text": [
      "['Ben', 'Jane', 'John', 'Marie', 'Jose']\n"
     ]
    }
   ],
   "source": [
    "names = [\"Ben\",\"Jane\",\"Mark\",\"John\",\"Marie\",\"Jose\"]\n",
    "del names[2] #Mark will be deleted completely\n",
    "print(names)"
   ]
  },
  {
   "cell_type": "markdown",
   "metadata": {},
   "source": [
    "**!!RECAP: Use remove() when you know the exact value of the item to remove / Use del when removing an element base on index**"
   ]
  },
  {
   "cell_type": "markdown",
   "metadata": {},
   "source": [
    "**#13: CLEAR THE LIST**"
   ]
  },
  {
   "cell_type": "code",
   "execution_count": 27,
   "metadata": {},
   "outputs": [
    {
     "name": "stdout",
     "output_type": "stream",
     "text": [
      "[]\n"
     ]
    }
   ],
   "source": [
    "names = [\"Ben\",\"Jane\",\"Mark\",\"John\",\"Marie\",\"Jose\"]\n",
    "names.clear() #clear all the items on the list, returns an empty list\n",
    "print(names)"
   ]
  },
  {
   "cell_type": "markdown",
   "metadata": {},
   "source": [
    "**#14: LOOP LISTS USING FOR LOOP**"
   ]
  },
  {
   "cell_type": "code",
   "execution_count": 29,
   "metadata": {},
   "outputs": [
    {
     "name": "stdout",
     "output_type": "stream",
     "text": [
      "Ben\n",
      "Jane\n",
      "Mark\n",
      "John\n",
      "Marie\n",
      "Jose\n"
     ]
    }
   ],
   "source": [
    "names = [\"Ben\",\"Jane\",\"Mark\",\"John\",\"Marie\",\"Jose\"]\n",
    "for name in names: # for each name in names: print name\n",
    "    print(name)"
   ]
  },
  {
   "cell_type": "markdown",
   "metadata": {},
   "source": [
    "**#15: LOOP LISTS USING WHILE LOOP**"
   ]
  },
  {
   "cell_type": "code",
   "execution_count": 34,
   "metadata": {},
   "outputs": [
    {
     "name": "stdout",
     "output_type": "stream",
     "text": [
      "Ben\n",
      "Jane\n",
      "Mark\n",
      "John\n",
      "Marie\n",
      "Jose\n"
     ]
    }
   ],
   "source": [
    "names = [\"Ben\",\"Jane\",\"Mark\",\"John\",\"Marie\",\"Jose\"]\n",
    "counter = 0 \n",
    "while counter < len(names): #to ensure all the items on the list will be printed, as well as stop the loop when the counter is greater than the items on the list\n",
    "    print(names[counter]) #each loop will from (0,1,2,3 so on) will act as an index for a name to be printed\n",
    "    counter += 1 #adding 1 for every loop to proceed onto the next item on the list"
   ]
  },
  {
   "cell_type": "markdown",
   "metadata": {},
   "source": [
    "**#16.1: SORT LISTS**"
   ]
  },
  {
   "cell_type": "code",
   "execution_count": 36,
   "metadata": {},
   "outputs": [
    {
     "name": "stdout",
     "output_type": "stream",
     "text": [
      "['Ben', 'Jane', 'John', 'Jose', 'Marie', 'Mark']\n",
      "[1, 2, 3, 4, 5]\n"
     ]
    }
   ],
   "source": [
    "names = [\"Ben\",\"Jane\",\"Mark\",\"John\",\"Marie\",\"Jose\"]\n",
    "names.sort() #list of names will be sort ALPHABETICALLY \n",
    "print(names)\n",
    "\n",
    "numbers = [3,4,2,1,5]\n",
    "numbers.sort() #from LOW to HIGH\n",
    "print(numbers)\n"
   ]
  },
  {
   "cell_type": "markdown",
   "metadata": {},
   "source": [
    "**#16.2: SORT LISTS IN REVERSE**"
   ]
  },
  {
   "cell_type": "code",
   "execution_count": 40,
   "metadata": {},
   "outputs": [
    {
     "name": "stdout",
     "output_type": "stream",
     "text": [
      "['Mark', 'Marie', 'Jose', 'John', 'Jane', 'Ben']\n",
      "[5, 4, 3, 2, 1]\n"
     ]
    }
   ],
   "source": [
    "#using sort(reverse = True)\n",
    "names = [\"Ben\",\"Jane\",\"Mark\",\"John\",\"Marie\",\"Jose\"]\n",
    "names.sort(reverse = True) \n",
    "print(names) #list of names will be sort REVERSE alphabetically (Z-A)\n",
    "\n",
    "numbers = [3,4,2,1,5]\n",
    "numbers.sort(reverse = True) \n",
    "print(numbers) #from HIGH to LOW"
   ]
  },
  {
   "cell_type": "markdown",
   "metadata": {},
   "source": [
    "**#17.1: COPY A LIST USING COPY()**"
   ]
  },
  {
   "cell_type": "code",
   "execution_count": 41,
   "metadata": {},
   "outputs": [
    {
     "name": "stdout",
     "output_type": "stream",
     "text": [
      "[1, 2, 3, 4, 5]\n"
     ]
    }
   ],
   "source": [
    "numbers = [1,2,3,4,5]\n",
    "mylist1 = numbers.copy()\n",
    "print(mylist1)\n"
   ]
  },
  {
   "cell_type": "markdown",
   "metadata": {},
   "source": [
    "**#17.2: COPY A LIST USING LIST()**"
   ]
  },
  {
   "cell_type": "code",
   "execution_count": 43,
   "metadata": {},
   "outputs": [
    {
     "name": "stdout",
     "output_type": "stream",
     "text": [
      "[1, 2, 3, 4, 5]\n"
     ]
    }
   ],
   "source": [
    "numbers = [1,2,3,4,5]\n",
    "mylist = list(numbers)\n",
    "print(mylist)"
   ]
  },
  {
   "cell_type": "markdown",
   "metadata": {},
   "source": [
    "**#18.1: JOIN LISTS USING +**"
   ]
  },
  {
   "cell_type": "code",
   "execution_count": 51,
   "metadata": {},
   "outputs": [
    {
     "name": "stdout",
     "output_type": "stream",
     "text": [
      "[1, 2, 3, 4, 5, 6]\n"
     ]
    }
   ],
   "source": [
    "list1 = [1,2,3,4]\n",
    "list2 = [5,6]\n",
    "mylist = list1 + list2\n",
    "print(mylist)\n"
   ]
  },
  {
   "cell_type": "markdown",
   "metadata": {},
   "source": [
    "**#18.2: JOIN LISTS USING APPEND()**"
   ]
  },
  {
   "cell_type": "code",
   "execution_count": 50,
   "metadata": {},
   "outputs": [
    {
     "name": "stdout",
     "output_type": "stream",
     "text": [
      "[1, 2, 3, 4, 5, 6]\n"
     ]
    }
   ],
   "source": [
    "list1 = [1,2,3,4]\n",
    "list2 = [5,6]\n",
    "for num in list2:\n",
    "    list1.append(num)\n",
    "print(list1)"
   ]
  },
  {
   "cell_type": "markdown",
   "metadata": {},
   "source": [
    "**#18.3: JOIN LISTS USING EXTEND**"
   ]
  },
  {
   "cell_type": "code",
   "execution_count": 52,
   "metadata": {},
   "outputs": [
    {
     "name": "stdout",
     "output_type": "stream",
     "text": [
      "[1, 2, 3, 4, 5, 6]\n"
     ]
    }
   ],
   "source": [
    "list1 = [1,2,3,4]\n",
    "list2 = [5,6]\n",
    "list1.extend(list2)\n",
    "print(list1)"
   ]
  }
 ],
 "metadata": {
  "kernelspec": {
   "display_name": "Python 3",
   "language": "python",
   "name": "python3"
  },
  "language_info": {
   "codemirror_mode": {
    "name": "ipython",
    "version": 3
   },
   "file_extension": ".py",
   "mimetype": "text/x-python",
   "name": "python",
   "nbconvert_exporter": "python",
   "pygments_lexer": "ipython3",
   "version": "3.11.9"
  }
 },
 "nbformat": 4,
 "nbformat_minor": 2
}
