{
 "cells": [
  {
   "cell_type": "markdown",
   "metadata": {},
   "source": [
    "\n",
    "&nbsp;&nbsp;&nbsp;&nbsp;&nbsp;&nbsp;&nbsp;&nbsp;&nbsp;&nbsp;&nbsp;&nbsp;&nbsp;&nbsp;&nbsp;&nbsp;&nbsp;&nbsp;&nbsp;\n",
    "# **DATA STRUCTURE AND ALGORITHMS TOPIC 01**"
   ]
  },
  {
   "cell_type": "markdown",
   "metadata": {},
   "source": [
    "**#01: ACCESS LIST ITEMS**"
   ]
  },
  {
   "cell_type": "code",
   "execution_count": 1,
   "metadata": {},
   "outputs": [
    {
     "name": "stdout",
     "output_type": "stream",
     "text": [
      "Jane\n"
     ]
    }
   ],
   "source": [
    "names = [\"Ben\",\"Jane\",\"Mark\",\"John\",\"Marie\"]\n",
    "print(names[1]) #prints first element"
   ]
  },
  {
   "cell_type": "markdown",
   "metadata": {},
   "source": [
    "**#02: ACCESS LIST ITEMS USING NEGATIVE INDEX**"
   ]
  },
  {
   "cell_type": "code",
   "execution_count": 2,
   "metadata": {},
   "outputs": [
    {
     "name": "stdout",
     "output_type": "stream",
     "text": [
      "Marie\n"
     ]
    }
   ],
   "source": [
    "names = [\"Ben\",\"Jane\",\"Mark\",\"John\",\"Marie\"]\n",
    "print(names[-1]) #print last element (starts counting on -1,-2,-3 from the last element towards the first !!!!! not O,-1,-2)"
   ]
  },
  {
   "cell_type": "markdown",
   "metadata": {},
   "source": [
    "**#03: ACCESS LIST ITEMS - RANGE OF INDEXES**"
   ]
  },
  {
   "cell_type": "code",
   "execution_count": 4,
   "metadata": {},
   "outputs": [
    {
     "name": "stdout",
     "output_type": "stream",
     "text": [
      "['Jane', 'Mark']\n",
      "['Ben', 'Jane', 'Mark', 'John']\n",
      "['John', 'Marie']\n"
     ]
    }
   ],
   "source": [
    "names = [\"Ben\",\"Jane\",\"Mark\",\"John\",\"Marie\"]\n",
    "print(names[1:3]) #second element to third element\n",
    "print(names[:4]) #first element to fourth element (no start value, means it will print from the starting element)\n",
    "print(names[3:]) #third element to last element (no end value, means it prints till the last element)\n",
    "\n",
    "#REMINDER!!!! (:) when no start value or end value, automatically it will print from the start to end of the list items"
   ]
  }
 ],
 "metadata": {
  "kernelspec": {
   "display_name": "Python 3",
   "language": "python",
   "name": "python3"
  },
  "language_info": {
   "codemirror_mode": {
    "name": "ipython",
    "version": 3
   },
   "file_extension": ".py",
   "mimetype": "text/x-python",
   "name": "python",
   "nbconvert_exporter": "python",
   "pygments_lexer": "ipython3",
   "version": "3.11.9"
  }
 },
 "nbformat": 4,
 "nbformat_minor": 2
}
